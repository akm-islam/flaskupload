{
 "cells": [
  {
   "cell_type": "code",
   "execution_count": 1,
   "metadata": {},
   "outputs": [
    {
     "name": "stdout",
     "output_type": "stream",
     "text": [
      "['https://data.cityofnewyork.us/browse?amp=&q=health&sortBy=relevance&page=1', 'https://data.cityofnewyork.us/browse?amp=&q=health&sortBy=relevance&page=1', 'https://data.cityofnewyork.us/browse?amp=&q=health&sortBy=relevance&page=2', 'https://data.cityofnewyork.us/browse?amp=&q=health&sortBy=relevance&page=3', 'https://data.cityofnewyork.us/browse?amp=&q=health&sortBy=relevance&page=4', 'https://data.cityofnewyork.us/browse?amp=&q=health&sortBy=relevance&page=5', 'https://data.cityofnewyork.us/browse?amp=&q=health&sortBy=relevance&page=6', 'https://data.cityofnewyork.us/browse?amp=&q=health&sortBy=relevance&page=7', 'https://data.cityofnewyork.us/browse?amp=&q=health&sortBy=relevance&page=8', 'https://data.cityofnewyork.us/browse?amp=&q=health&sortBy=relevance&page=9']\n",
      "url in link\n",
      "['Community Health Survey', 'NYC Health + Hospitals patient care locations - 2011', 'Community Health Centers', 'NYC Health + Hospitals WTC 9/11 Health Center – common disorders – 2011', 'Child Health Plus Income Levels']\n"
     ]
    }
   ],
   "source": [
    "import requests\n",
    "import urllib.request\n",
    "import time\n",
    "from bs4 import BeautifulSoup\n",
    "import os as os\n",
    "import pandas as pd\n",
    "import re\n",
    "keyword=\"health\"\n",
    "max_num=5\n",
    "link_list=[]\n",
    "datasets_array=[]\n",
    "count=0\n",
    "first_url=\"https://data.cityofnewyork.us/browse?amp=&q=\"+keyword+\"&sortBy=relevance&page=1\"\n",
    "link_list.append(first_url)\n",
    "paginationlink = requests.get(first_url)\n",
    "soup = BeautifulSoup(paginationlink.text, \"html.parser\")\n",
    "links=soup.findAll(\"a\",{\"class\":\"pageLink\"})\n",
    "for link in links:\n",
    "    link_list.append(\"https://data.cityofnewyork.us\"+link['href'])\n",
    "#print(link_list)\n",
    "for url in link_list:\n",
    "    if(count<max_num):\n",
    "        datalink1=\"https://dev.socrata.com/foundry/data.cityofnewyork.us/\"\n",
    "        datalink2='https://data.cityofnewyork.us/resource/'\n",
    "        response = requests.get(url)\n",
    "        soup = BeautifulSoup(response.text, \"html.parser\")\n",
    "        links=soup.findAll(\"div\", {\"class\": \"browse2-result\"})\n",
    "        dict2={}\n",
    "        #print(\"url in link\")\n",
    "    if(count<max_num):\n",
    "        for link in links:\n",
    "            if(count<max_num):\n",
    "                try:\n",
    "                    href=link.findAll(\"a\",{\"class\":\"browse2-result-api-link\"})[0][\"href\"].replace(datalink1,datalink2)+\".json\"\n",
    "                    title=link.findAll(\"a\",{\"class\":\"browse2-result-name-link\"})[0].string\n",
    "                    dict2[title]=href\n",
    "                except IndexError:\n",
    "                    pass\n",
    "                    #print(link.findAll(\"a\",{\"class\":\"browse2-result-name-link\"})[0].string)\n",
    "        #print(dict2)\n",
    "    for key in dict2:\n",
    "        if(count<max_num):\n",
    "            try:\n",
    "                data=pd.read_json(dict2[key])\n",
    "                datasets_array.append(key)\n",
    "                #print(key)\n",
    "                if not (os.path.exists(\"nyc/\"+re.sub(\"/\",\"\",key)+\".csv\")):\n",
    "                    data.to_csv(r\"nyc/\"+re.sub(\"/\",\"\",key)+\".csv\",sep=\",\")\n",
    "                    count=count+1\n",
    "            except:\n",
    "                print(\"error in file location\")"
   ]
  },
  {
   "cell_type": "code",
   "execution_count": null,
   "metadata": {},
   "outputs": [],
   "source": []
  }
 ],
 "metadata": {
  "kernelspec": {
   "display_name": "Python 3",
   "language": "python",
   "name": "python3"
  },
  "language_info": {
   "codemirror_mode": {
    "name": "ipython",
    "version": 3
   },
   "file_extension": ".py",
   "mimetype": "text/x-python",
   "name": "python",
   "nbconvert_exporter": "python",
   "pygments_lexer": "ipython3",
   "version": "3.7.3"
  }
 },
 "nbformat": 4,
 "nbformat_minor": 2
}
