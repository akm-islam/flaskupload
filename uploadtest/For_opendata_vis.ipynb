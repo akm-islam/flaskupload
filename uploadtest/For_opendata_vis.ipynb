{
 "cells": [
  {
   "cell_type": "code",
   "execution_count": 39,
   "metadata": {},
   "outputs": [
    {
     "name": "stdout",
     "output_type": "stream",
     "text": [
      "['https://data.cityofnewyork.us/browse?amp=&q=health&sortBy=relevance&page=1', 'https://data.cityofnewyork.us/browse?amp=&q=health&sortBy=relevance&page=1', 'https://data.cityofnewyork.us/browse?amp=&q=health&sortBy=relevance&page=2', 'https://data.cityofnewyork.us/browse?amp=&q=health&sortBy=relevance&page=3', 'https://data.cityofnewyork.us/browse?amp=&q=health&sortBy=relevance&page=4', 'https://data.cityofnewyork.us/browse?amp=&q=health&sortBy=relevance&page=5', 'https://data.cityofnewyork.us/browse?amp=&q=health&sortBy=relevance&page=6', 'https://data.cityofnewyork.us/browse?amp=&q=health&sortBy=relevance&page=7', 'https://data.cityofnewyork.us/browse?amp=&q=health&sortBy=relevance&page=8', 'https://data.cityofnewyork.us/browse?amp=&q=health&sortBy=relevance&page=9']\n",
      "fetched:  1 \n",
      "\n",
      "fetched:  2 \n",
      "\n",
      "fetched:  3 \n",
      "\n",
      "fetched:  4 \n",
      "\n",
      "fetched:  5 \n",
      "\n",
      "['https://data.cityofnewyork.us/browse?amp=&q=education&sortBy=relevance&page=1', 'https://data.cityofnewyork.us/browse?amp=&q=education&sortBy=relevance&page=1', 'https://data.cityofnewyork.us/browse?amp=&q=education&sortBy=relevance&page=2', 'https://data.cityofnewyork.us/browse?amp=&q=education&sortBy=relevance&page=3', 'https://data.cityofnewyork.us/browse?amp=&q=education&sortBy=relevance&page=4', 'https://data.cityofnewyork.us/browse?amp=&q=education&sortBy=relevance&page=5', 'https://data.cityofnewyork.us/browse?amp=&q=education&sortBy=relevance&page=6', 'https://data.cityofnewyork.us/browse?amp=&q=education&sortBy=relevance&page=7', 'https://data.cityofnewyork.us/browse?amp=&q=education&sortBy=relevance&page=8', 'https://data.cityofnewyork.us/browse?amp=&q=education&sortBy=relevance&page=9']\n",
      "fetched:  1 \n",
      "\n",
      "fetched:  2 \n",
      "\n",
      "fetched:  3 \n",
      "\n",
      "fetched:  4 \n",
      "\n",
      "fetched:  5 \n",
      "\n"
     ]
    }
   ],
   "source": [
    "import requests\n",
    "import urllib.request\n",
    "import time\n",
    "from bs4 import BeautifulSoup\n",
    "import os as os\n",
    "import pandas as pd\n",
    "import re\n",
    "keywordlist=[\"health\",\"education\"]\n",
    "max_num=5\n",
    "datasets_array=[]\n",
    "dataset_tag_dict={}\n",
    "for keyword in keywordlist:\n",
    "    temp_dict_for_datasets_and_tag={}\n",
    "    count=0\n",
    "    link_list=[]\n",
    "    first_url=\"https://data.cityofnewyork.us/browse?amp=&q=\"+keyword+\"&sortBy=relevance&page=1\"\n",
    "    link_list.append(first_url)\n",
    "    paginationlink = requests.get(first_url)\n",
    "    soup = BeautifulSoup(paginationlink.text, \"html.parser\")\n",
    "    links=soup.findAll(\"a\",{\"class\":\"pageLink\"})\n",
    "    for link in links:\n",
    "        link_list.append(\"https://data.cityofnewyork.us\"+link['href'])\n",
    "    print(link_list)\n",
    "    for url in link_list:\n",
    "        if(count<max_num):\n",
    "            datalink1=\"https://dev.socrata.com/foundry/data.cityofnewyork.us/\"\n",
    "            datalink2='https://data.cityofnewyork.us/resource/'\n",
    "            response = requests.get(url)\n",
    "            soup = BeautifulSoup(response.text, \"html.parser\")\n",
    "            # parent div with meta tag\n",
    "            links=soup.findAll(\"div\", {\"class\": \"browse2-result\"})\n",
    "            dict2={}\n",
    "            #print(\"url in link\")\n",
    "        if(count<max_num):\n",
    "            count2=0\n",
    "            for link in links:\n",
    "                tags_array=[]\n",
    "                if(count2<max_num):\n",
    "                    try:\n",
    "                        # get href and add .json at the end\n",
    "                        href2=link.findAll(\"a\",{\"class\":\"browse2-result-api-link\"})[0][\"href\"].replace(datalink1,datalink2)\n",
    "                        href=href2+\".json\"\n",
    "                        # Get the tags from here\n",
    "                        #print(\"link is : \",href2)\n",
    "                        title=link.findAll(\"a\",{\"class\":\"browse2-result-name-link\"})[0].string\n",
    "                        dict2[title]=href\n",
    "                        taglist=link.findAll(\"div\",{\"class\":\"browse2-result-topics\"})\n",
    "                        tag_arr=taglist[0].findAll(\"a\")\n",
    "                        for tag in tag_arr:\n",
    "                            tags_array.append(tag.find(\"span\").string)\n",
    "                        temp_dict_for_datasets_and_tag[title]=tags_array\n",
    "                        count2=count2+1\n",
    "                    except IndexError:\n",
    "                        pass\n",
    "                        #print(link.findAll(\"a\",{\"class\":\"browse2-result-name-link\"})[0].string)\n",
    "            #print(dict2)\n",
    "        for key in dict2:\n",
    "            if(count<max_num):\n",
    "                try:\n",
    "                    data=pd.read_json(dict2[key])\n",
    "                    datasets_array.append(re.sub(\"/\",\"\",key)+\".csv\")\n",
    "                    #print(key)\n",
    "                    if not (os.path.exists(\"upload/\"+re.sub(\"/\",\"\",key)+\".csv\")):\n",
    "                        data.to_csv(r\"upload/\"+re.sub(\"/\",\"\",key)+\".csv\",sep=\",\")\n",
    "                        count=count+1\n",
    "                        print(\"fetched: \",count,\"\\n\")\n",
    "                except:\n",
    "                    print(\"error in file location\")\n",
    "    dataset_tag_dict[keyword]=temp_dict_for_datasets_and_tag"
   ]
  },
  {
   "cell_type": "code",
   "execution_count": 45,
   "metadata": {},
   "outputs": [
    {
     "name": "stdout",
     "output_type": "stream",
     "text": [
      "health ---------- {'Community Health Survey': ['dohmh', 'health', 'survey'], 'DOHMH Community Health Survey (2010-2016)': ['new york city adults', 'surveys', 'public health'], 'NYC Health + Hospitals patient care locations - 2011': ['healthy living', 'medicaid', 'medicare', 'hospital', 'healthcare provider'], 'Community Health Centers': ['health', 'community', 'hra', 'human resources administration', 'jobs and economic mobility'], 'NYC Health + Hospitals WTC 9/11 Health Center – common disorders – 2011': ['healthy living', 'environmental health center', 'disorder', 'wtc', 'world trade center'], 'DOHMH Community Mental Health Survey': ['serious mental illness (smi)', 'new york city adults', 'surveys', 'mental health']}\n",
      "education ---------- {'2017 – 2018 Anticipated Bilingual Education Programs': ['dual language', 'transitional', 'bilingual', 'doe'], 'TLC Driver Education 24 Hour Course Providers (Dataset)': ['course', 'education', 'driver', 'tlc'], 'Office Of Adult And Continuing Education Location Directory': ['jobs and economic mobility', 'office of adult and continuing education location directory'], '2016-17 Physical Education - PE Space': ['reference code jseqjq', 'pe space', 'physical education', '2017', '2016'], '2015-2016 Physical Education - PE Space': []}\n"
     ]
    }
   ],
   "source": [
    "for key in dataset_tag_dict:\n",
    "    print(key,\"----------\" ,dataset_tag_dict[key])"
   ]
  },
  {
   "cell_type": "code",
   "execution_count": null,
   "metadata": {},
   "outputs": [],
   "source": []
  },
  {
   "cell_type": "code",
   "execution_count": null,
   "metadata": {},
   "outputs": [],
   "source": []
  }
 ],
 "metadata": {
  "kernelspec": {
   "display_name": "Python 3",
   "language": "python",
   "name": "python3"
  },
  "language_info": {
   "codemirror_mode": {
    "name": "ipython",
    "version": 3
   },
   "file_extension": ".py",
   "mimetype": "text/x-python",
   "name": "python",
   "nbconvert_exporter": "python",
   "pygments_lexer": "ipython3",
   "version": "3.7.3"
  }
 },
 "nbformat": 4,
 "nbformat_minor": 2
}
